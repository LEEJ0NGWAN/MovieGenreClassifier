{
  "nbformat": 4,
  "nbformat_minor": 0,
  "metadata": {
    "colab": {
      "name": "Untitled1.ipynb",
      "provenance": [],
      "collapsed_sections": [],
      "toc_visible": true
    },
    "kernelspec": {
      "name": "python3",
      "display_name": "Python 3"
    },
    "accelerator": "GPU"
  },
  "cells": [
    {
      "cell_type": "markdown",
      "metadata": {
        "id": "m5Q_vdkDNze0",
        "colab_type": "text"
      },
      "source": [
        "# **1. git clone (둘 중 하나 선택)**"
      ]
    },
    {
      "cell_type": "markdown",
      "metadata": {
        "id": "lrU6DJIhN5Fb",
        "colab_type": "text"
      },
      "source": [
        "branch 클론 (- b 뒤에 branch 이름 기재)"
      ]
    },
    {
      "cell_type": "code",
      "metadata": {
        "id": "XPqS3VXqM9AB",
        "colab_type": "code",
        "colab": {}
      },
      "source": [
        "!git clone -b feature/singleshot_train --single-branch https://github.com/LEEJ0NGWAN/Scene-Sentiment-Classifier"
      ],
      "execution_count": 0,
      "outputs": []
    },
    {
      "cell_type": "markdown",
      "metadata": {
        "id": "M-o9qB-NOCPJ",
        "colab_type": "text"
      },
      "source": [
        "master 클론"
      ]
    },
    {
      "cell_type": "code",
      "metadata": {
        "id": "6EGIdDiiM9r7",
        "colab_type": "code",
        "colab": {}
      },
      "source": [
        "!git clone https://github.com/LEEJ0NGWAN/Scene-Sentiment-Classifier"
      ],
      "execution_count": 0,
      "outputs": []
    },
    {
      "cell_type": "markdown",
      "metadata": {
        "id": "TkcLwDlmOLo3",
        "colab_type": "text"
      },
      "source": [
        "# 디렉토리 이동"
      ]
    },
    {
      "cell_type": "code",
      "metadata": {
        "id": "_tcrp5DDNBN7",
        "colab_type": "code",
        "colab": {}
      },
      "source": [
        "%cd ./Scene-Sentiment-Classifier/\n",
        "!ls"
      ],
      "execution_count": 0,
      "outputs": []
    },
    {
      "cell_type": "markdown",
      "metadata": {
        "id": "SB-HcWXoOWS-",
        "colab_type": "text"
      },
      "source": [
        "# 2.**텐서 보드 설치** "
      ]
    },
    {
      "cell_type": "code",
      "metadata": {
        "id": "MvgArwh0Nmel",
        "colab_type": "code",
        "colab": {}
      },
      "source": [
        "!pip uninstall tensorboard\n",
        "!pip install --force-reinstall tf-nightly-2.0-preview"
      ],
      "execution_count": 0,
      "outputs": []
    },
    {
      "cell_type": "code",
      "metadata": {
        "id": "_ggKJRICNAio",
        "colab_type": "code",
        "outputId": "4c0db96f-4d6b-4d9c-9e21-1dfb97df9adc",
        "colab": {
          "base_uri": "https://localhost:8080/",
          "height": 53
        }
      },
      "source": [
        "!pip install --upgrade grpcio"
      ],
      "execution_count": 0,
      "outputs": [
        {
          "output_type": "stream",
          "text": [
            "Requirement already up-to-date: grpcio in /usr/local/lib/python3.6/dist-packages (1.25.0)\n",
            "Requirement already satisfied, skipping upgrade: six>=1.5.2 in /usr/local/lib/python3.6/dist-packages (from grpcio) (1.13.0)\n"
          ],
          "name": "stdout"
        }
      ]
    },
    {
      "cell_type": "code",
      "metadata": {
        "id": "8OzGq1DyMoCx",
        "colab_type": "code",
        "colab": {}
      },
      "source": [
        "!pip install -q tf-nightly-2.0-preview"
      ],
      "execution_count": 0,
      "outputs": []
    },
    {
      "cell_type": "code",
      "metadata": {
        "id": "q6yL7K6uNYFG",
        "colab_type": "code",
        "colab": {}
      },
      "source": [
        "%load_ext tensorboard"
      ],
      "execution_count": 0,
      "outputs": []
    },
    {
      "cell_type": "code",
      "metadata": {
        "id": "d9_2FbQ8Mpb8",
        "colab_type": "code",
        "colab": {}
      },
      "source": [
        "import os\n",
        "logs_base_dir = \"/content/Scene-Sentiment-Classifier/runs\"\n",
        "os.makedirs(logs_base_dir, exist_ok=True)"
      ],
      "execution_count": 0,
      "outputs": []
    },
    {
      "cell_type": "markdown",
      "metadata": {
        "id": "ELIzGXRNOw6Z",
        "colab_type": "text"
      },
      "source": [
        "**텐서 보드 실행**"
      ]
    },
    {
      "cell_type": "code",
      "metadata": {
        "id": "Aiosq6jTM00J",
        "colab_type": "code",
        "colab": {}
      },
      "source": [
        "%tensorboard --logdir {logs_base_dir}"
      ],
      "execution_count": 0,
      "outputs": []
    },
    {
      "cell_type": "markdown",
      "metadata": {
        "id": "LmeTEzPxO6Hf",
        "colab_type": "text"
      },
      "source": [
        "# **3. 파일 실행**"
      ]
    },
    {
      "cell_type": "code",
      "metadata": {
        "id": "oiarkNN2CC_X",
        "colab_type": "code",
        "colab": {}
      },
      "source": [
        "!python3 train_single_vgg_sgd.py --epoch 10 --lr 0.001 --bs 128"
      ],
      "execution_count": 0,
      "outputs": []
    },
    {
      "cell_type": "code",
      "metadata": {
        "id": "WTQDL99sRuUZ",
        "colab_type": "code",
        "colab": {}
      },
      "source": [
        "!python3 train_single_vgg_adam.py --epoch 10 --lr 0.0001 --bs 128"
      ],
      "execution_count": 0,
      "outputs": []
    },
    {
      "cell_type": "code",
      "metadata": {
        "id": "z5FonkAufniD",
        "colab_type": "code",
        "colab": {}
      },
      "source": [
        "!python3 train_single_vgg.py --epoch 50 --lr 0.0001 --bs 128"
      ],
      "execution_count": 0,
      "outputs": []
    },
    {
      "cell_type": "code",
      "metadata": {
        "id": "TzdhT_VVYIvm",
        "colab_type": "code",
        "colab": {}
      },
      "source": [
        "!python3 test_single_vgg.py"
      ],
      "execution_count": 0,
      "outputs": []
    },
    {
      "cell_type": "code",
      "metadata": {
        "id": "REDV4SJDRuIp",
        "colab_type": "code",
        "colab": {}
      },
      "source": [
        "!python3 train_single_inception.py --epoch 50 --lr 0.0001 --bs 128"
      ],
      "execution_count": 0,
      "outputs": []
    },
    {
      "cell_type": "code",
      "metadata": {
        "id": "dvZwWs1e8Goo",
        "colab_type": "code",
        "colab": {}
      },
      "source": [
        "!python3 test_single_inception.py"
      ],
      "execution_count": 0,
      "outputs": []
    }
  ]
}